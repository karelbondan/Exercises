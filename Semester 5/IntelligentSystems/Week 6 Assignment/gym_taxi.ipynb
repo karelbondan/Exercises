{
 "cells": [
  {
   "cell_type": "code",
   "execution_count": 2,
   "id": "e8e16638",
   "metadata": {},
   "outputs": [],
   "source": [
    "import numpy as np\n",
    "import gym\n",
    "import random"
   ]
  },
  {
   "cell_type": "code",
   "execution_count": 3,
   "id": "0fadaeee",
   "metadata": {},
   "outputs": [],
   "source": [
    "# create Taxi environment\n",
    "env = gym.make('Taxi-v3', render_mode=\"rgb_array\")"
   ]
  },
  {
   "cell_type": "code",
   "execution_count": 4,
   "id": "188ba9f2",
   "metadata": {},
   "outputs": [],
   "source": [
    "# initialize q-table\n",
    "state_size = env.observation_space.n\n",
    "action_size = env.action_space.n\n",
    "qtable = np.zeros((state_size, action_size))"
   ]
  },
  {
   "cell_type": "code",
   "execution_count": 5,
   "id": "e6d445f7",
   "metadata": {},
   "outputs": [],
   "source": [
    "# hyperparameters\n",
    "learning_rate = 0.9\n",
    "discount_rate = 0.8\n",
    "epsilon = 1.0\n",
    "decay_rate= 0.005"
   ]
  },
  {
   "cell_type": "code",
   "execution_count": 6,
   "id": "b371cac8",
   "metadata": {},
   "outputs": [],
   "source": [
    "# training variables\n",
    "num_episodes = 1000\n",
    "max_steps = 99 # per episode"
   ]
  },
  {
   "cell_type": "code",
   "execution_count": 7,
   "id": "d9c66155",
   "metadata": {},
   "outputs": [
    {
     "name": "stdout",
     "output_type": "stream",
     "text": [
      "Training completed over 1000 episodes\n",
      "Press Enter to watch trained agent...\n"
     ]
    },
    {
     "data": {
      "text/plain": [
       "''"
      ]
     },
     "execution_count": 7,
     "metadata": {},
     "output_type": "execute_result"
    }
   ],
   "source": [
    "# training\n",
    "for episode in range(num_episodes):\n",
    "\n",
    "    # reset the environment\n",
    "    state = env.reset()\n",
    "    done = False\n",
    "\n",
    "    for s in range(max_steps):\n",
    "\n",
    "        # exploration-exploitation tradeoff\n",
    "        if random.uniform(0,1) < epsilon:\n",
    "            # explore\n",
    "            action = env.action_space.sample()\n",
    "        else:\n",
    "            # check whether state is an int\n",
    "            if type(state) == int:\n",
    "                pass\n",
    "            else:\n",
    "                state = state[0]\n",
    "\n",
    "            # exploit\n",
    "            action = np.argmax(qtable[state,:])\n",
    "\n",
    "        # take action and observe reward\n",
    "        new_state, reward, done, _, info = env.step(action)\n",
    "\n",
    "        # check whether state is an int\n",
    "        if type(state) == int:\n",
    "            pass\n",
    "        else:\n",
    "            state = state[0]\n",
    "\n",
    "        # Q-learning algorithm\n",
    "        qtable[state,action] = qtable[state,action] + learning_rate * (reward + discount_rate * np.max(qtable[new_state,:])-qtable[state,action])\n",
    "\n",
    "        # Update to our new state\n",
    "        state = new_state\n",
    "\n",
    "        # if done, finish episode\n",
    "        if done == True:\n",
    "            break\n",
    "\n",
    "    # Decrease epsilon\n",
    "    epsilon = np.exp(-decay_rate*episode)\n",
    "\n",
    "print(f\"Training completed over {num_episodes} episodes\")\n",
    "input(\"Press Enter to watch trained agent...\")"
   ]
  },
  {
   "cell_type": "code",
   "execution_count": 8,
   "id": "11ecd105",
   "metadata": {},
   "outputs": [],
   "source": [
    "# watch trained agent\n",
    "state = env.reset()\n",
    "done = False\n",
    "rewards = 0"
   ]
  },
  {
   "cell_type": "code",
   "execution_count": 9,
   "id": "29ff2266",
   "metadata": {},
   "outputs": [
    {
     "name": "stdout",
     "output_type": "stream",
     "text": [
      "TRAINED AGENT\n",
      "Step 1\n",
      "score: -1\n",
      "TRAINED AGENT\n",
      "Step 2\n",
      "score: -2\n",
      "TRAINED AGENT\n",
      "Step 3\n",
      "score: -3\n",
      "TRAINED AGENT\n",
      "Step 4\n",
      "score: -4\n",
      "TRAINED AGENT\n",
      "Step 5\n",
      "score: -5\n",
      "TRAINED AGENT\n",
      "Step 6\n",
      "score: -6\n",
      "TRAINED AGENT\n",
      "Step 7\n",
      "score: -7\n",
      "TRAINED AGENT\n",
      "Step 8\n",
      "score: -8\n",
      "TRAINED AGENT\n",
      "Step 9\n",
      "score: -9\n",
      "TRAINED AGENT\n",
      "Step 10\n",
      "score: -10\n",
      "TRAINED AGENT\n",
      "Step 11\n",
      "score: -11\n",
      "TRAINED AGENT\n",
      "Step 12\n",
      "score: -12\n",
      "TRAINED AGENT\n",
      "Step 13\n",
      "score: 8\n"
     ]
    }
   ],
   "source": [
    "for s in range(max_steps):\n",
    "\n",
    "    print(f\"TRAINED AGENT\")\n",
    "    print(\"Step {}\".format(s+1))\n",
    "\n",
    "    # check whether state is an int\n",
    "    if type(state) == int:\n",
    "        pass\n",
    "    else:\n",
    "        state = state[0]\n",
    "\n",
    "    action = np.argmax(qtable[state,:])\n",
    "    new_state, reward, done, _, info = env.step(action)\n",
    "    rewards += reward\n",
    "    env.render()\n",
    "    print(f\"score: {rewards}\")\n",
    "    state = new_state\n",
    "\n",
    "    if done == True:\n",
    "        break"
   ]
  },
  {
   "cell_type": "code",
   "execution_count": 10,
   "id": "1b88ee95",
   "metadata": {},
   "outputs": [],
   "source": [
    "env.close()"
   ]
  },
  {
   "cell_type": "code",
   "execution_count": null,
   "id": "fc9064ba",
   "metadata": {},
   "outputs": [],
   "source": []
  }
 ],
 "metadata": {
  "kernelspec": {
   "display_name": "Python 3 (ipykernel)",
   "language": "python",
   "name": "python3"
  },
  "language_info": {
   "codemirror_mode": {
    "name": "ipython",
    "version": 3
   },
   "file_extension": ".py",
   "mimetype": "text/x-python",
   "name": "python",
   "nbconvert_exporter": "python",
   "pygments_lexer": "ipython3",
   "version": "3.8.6"
  }
 },
 "nbformat": 4,
 "nbformat_minor": 5
}
